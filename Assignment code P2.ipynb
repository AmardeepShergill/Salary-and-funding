{
 "cells": [
  {
   "cell_type": "markdown",
   "id": "2b04dd95-2ffb-4fa1-b4b2-091647abb161",
   "metadata": {},
   "source": [
    "# Final Assignment - Part 2 [solutions]"
   ]
  },
  {
   "cell_type": "markdown",
   "id": "5a968c9c-628b-42c6-b692-d88b2a1866f4",
   "metadata": {},
   "source": [
    "### Assignment Instructions"
   ]
  },
  {
   "cell_type": "markdown",
   "id": "b197f446-530c-41ee-b11f-57900dfa6fae",
   "metadata": {
    "tags": []
   },
   "source": [
    "#### Part 2   |   Advanced Difficulty Level\n",
    "\n",
    "In this second part, you will be working with a datasets containing information on indian startups' funding, including the startup's details, the funding it received, and the investors' information. \n",
    "\n",
    "In the usual `data` folder, you will find the following three datasets, including data from 2019, 2020 and 2021: \n",
    "\n",
    "- `startup_funding2019.csv`\n",
    "- `startup_funding2020.csv`\n",
    "- `startup_funding2021.csv`\n",
    "\n",
    "At [this link](https://www.kaggle.com/datasets/omkargowda/indian-startups-funding-data?select=startup_funding2019.csv) you can find the source of the original data (Kaggle) as well as more information on its composition *(note: the files in the data folder are slightly different from the originals)*."
   ]
  },
  {
   "cell_type": "markdown",
   "id": "9528671c-2443-4008-9872-ef76288bab5b",
   "metadata": {},
   "source": [
    "1. Using a **for loop**, load all three .csv files in a temporary DataFrame called `df_tmp` and, at each cycle, add a new column named `Year` that includes the year of that csv file to the temporary table and append it to a final DataFrame named `fnd`. Your final `fnd` DataFrame should include the contents from all three csv files stacked one on top of the other. \n",
    "\n",
    "    What is the **shape** of the `fnd` DataFrame? "
   ]
  },
  {
   "cell_type": "code",
   "execution_count": 44,
   "id": "c46eac41-ed3c-43b1-81ca-e4cd4db26e07",
   "metadata": {},
   "outputs": [],
   "source": [
    "import os\n",
    "import numpy as np\n",
    "import pandas as pd\n",
    "\n",
    "import seaborn as sns\n",
    "from matplotlib import pyplot as plt"
   ]
  },
  {
   "cell_type": "code",
   "execution_count": 45,
   "id": "7307af8d-05f4-4c09-92d1-7c6e0f934e8e",
   "metadata": {},
   "outputs": [
    {
     "data": {
      "text/plain": [
       "['startup_funding2019.csv',\n",
       " 'startup_funding2021.csv',\n",
       " 'startup_funding2020.csv',\n",
       " 'Software Professionals Salary.csv']"
      ]
     },
     "execution_count": 45,
     "metadata": {},
     "output_type": "execute_result"
    }
   ],
   "source": [
    "os.listdir('../_data/')"
   ]
  },
  {
   "cell_type": "code",
   "execution_count": 46,
   "id": "543d91e3-46ed-47d3-997f-403ac846a2d1",
   "metadata": {},
   "outputs": [
    {
     "data": {
      "text/plain": [
       "['startup_funding2019.csv',\n",
       " 'startup_funding2021.csv',\n",
       " 'startup_funding2020.csv']"
      ]
     },
     "execution_count": 46,
     "metadata": {},
     "output_type": "execute_result"
    }
   ],
   "source": [
    "files = [x for x in os.listdir('../_data/') if x[0:4]=='star']\n",
    "files"
   ]
  },
  {
   "cell_type": "code",
   "execution_count": 47,
   "id": "fa2bd7b8-11a0-4288-afe3-c72c07424828",
   "metadata": {},
   "outputs": [],
   "source": [
    "files = [x for x in os.listdir('../_data/') if x[0:4]=='star']\n",
    "\n",
    "fnd = pd.DataFrame([])\n",
    "for file in files: \n",
    "    df_tmp = pd.read_csv('../_data/'+file)\n",
    "    df_tmp['Year'] = file[-8:-4]\n",
    "    fnd = pd.concat([fnd, df_tmp])"
   ]
  },
  {
   "cell_type": "code",
   "execution_count": 48,
   "id": "cd07db36-c3bd-41a6-9dbd-08ed5f1ccd1d",
   "metadata": {},
   "outputs": [
    {
     "data": {
      "text/html": [
       "<div>\n",
       "<style scoped>\n",
       "    .dataframe tbody tr th:only-of-type {\n",
       "        vertical-align: middle;\n",
       "    }\n",
       "\n",
       "    .dataframe tbody tr th {\n",
       "        vertical-align: top;\n",
       "    }\n",
       "\n",
       "    .dataframe thead th {\n",
       "        text-align: right;\n",
       "    }\n",
       "</style>\n",
       "<table border=\"1\" class=\"dataframe\">\n",
       "  <thead>\n",
       "    <tr style=\"text-align: right;\">\n",
       "      <th></th>\n",
       "      <th>Company/Brand</th>\n",
       "      <th>Founded</th>\n",
       "      <th>HeadQuarter</th>\n",
       "      <th>Sector</th>\n",
       "      <th>What it does</th>\n",
       "      <th>Founders</th>\n",
       "      <th>Investor</th>\n",
       "      <th>Amount($)</th>\n",
       "      <th>Stage</th>\n",
       "      <th>Year</th>\n",
       "    </tr>\n",
       "  </thead>\n",
       "  <tbody>\n",
       "    <tr>\n",
       "      <th>0</th>\n",
       "      <td>Bombay Shaving</td>\n",
       "      <td>NaN</td>\n",
       "      <td>NaN</td>\n",
       "      <td>Ecommerce</td>\n",
       "      <td>Provides a range of male grooming products</td>\n",
       "      <td>Shantanu Deshpande</td>\n",
       "      <td>Sixth Sense Ventures</td>\n",
       "      <td>$6,300,000</td>\n",
       "      <td>NaN</td>\n",
       "      <td>2019</td>\n",
       "    </tr>\n",
       "    <tr>\n",
       "      <th>1</th>\n",
       "      <td>Ruangguru</td>\n",
       "      <td>2014.0</td>\n",
       "      <td>Mumbai</td>\n",
       "      <td>Edtech</td>\n",
       "      <td>A learning platform that provides topic-based ...</td>\n",
       "      <td>Adamas Belva Syah Devara, Iman Usman.</td>\n",
       "      <td>General Atlantic</td>\n",
       "      <td>$150,000,000</td>\n",
       "      <td>Series C</td>\n",
       "      <td>2019</td>\n",
       "    </tr>\n",
       "    <tr>\n",
       "      <th>2</th>\n",
       "      <td>Eduisfun</td>\n",
       "      <td>NaN</td>\n",
       "      <td>Mumbai</td>\n",
       "      <td>Edtech</td>\n",
       "      <td>It aims to make learning fun via games.</td>\n",
       "      <td>Jatin Solanki</td>\n",
       "      <td>Deepak Parekh, Amitabh Bachchan, Piyush Pandey</td>\n",
       "      <td>$28,000,000</td>\n",
       "      <td>Fresh funding</td>\n",
       "      <td>2019</td>\n",
       "    </tr>\n",
       "  </tbody>\n",
       "</table>\n",
       "</div>"
      ],
      "text/plain": [
       "    Company/Brand Founded HeadQuarter     Sector  \\\n",
       "0  Bombay Shaving     NaN         NaN  Ecommerce   \n",
       "1       Ruangguru  2014.0      Mumbai     Edtech   \n",
       "2        Eduisfun     NaN      Mumbai     Edtech   \n",
       "\n",
       "                                        What it does  \\\n",
       "0         Provides a range of male grooming products   \n",
       "1  A learning platform that provides topic-based ...   \n",
       "2            It aims to make learning fun via games.   \n",
       "\n",
       "                                Founders  \\\n",
       "0                     Shantanu Deshpande   \n",
       "1  Adamas Belva Syah Devara, Iman Usman.   \n",
       "2                          Jatin Solanki   \n",
       "\n",
       "                                         Investor     Amount($)  \\\n",
       "0                            Sixth Sense Ventures    $6,300,000   \n",
       "1                                General Atlantic  $150,000,000   \n",
       "2  Deepak Parekh, Amitabh Bachchan, Piyush Pandey   $28,000,000   \n",
       "\n",
       "           Stage  Year  \n",
       "0            NaN  2019  \n",
       "1       Series C  2019  \n",
       "2  Fresh funding  2019  "
      ]
     },
     "execution_count": 48,
     "metadata": {},
     "output_type": "execute_result"
    }
   ],
   "source": [
    "fnd.head(3)"
   ]
  },
  {
   "cell_type": "code",
   "execution_count": 49,
   "id": "95b7ed33-a7c7-4309-bfba-d07958820fb9",
   "metadata": {},
   "outputs": [
    {
     "data": {
      "text/plain": [
       "(2343, 10)"
      ]
     },
     "execution_count": 49,
     "metadata": {},
     "output_type": "execute_result"
    }
   ],
   "source": [
    "fnd.shape"
   ]
  },
  {
   "cell_type": "markdown",
   "id": "1740ef37-e478-4d67-ac20-375b652cbcf0",
   "metadata": {},
   "source": [
    "2. If you check the columns' data types, you'll notice that the columns `Founded`, `Amount($)` and `Year` are being interpreted as strings instead of numbers. Format those three columns to numeric data types. \n",
    "\n",
    "    What is the **total** `Amount($)` of funding given in the three years available?"
   ]
  },
  {
   "cell_type": "code",
   "execution_count": 50,
   "id": "839955c1-8c75-4448-9b34-cb51328b2137",
   "metadata": {},
   "outputs": [
    {
     "name": "stdout",
     "output_type": "stream",
     "text": [
      "<class 'pandas.core.frame.DataFrame'>\n",
      "Index: 2343 entries, 0 to 1051\n",
      "Data columns (total 10 columns):\n",
      " #   Column         Non-Null Count  Dtype \n",
      "---  ------         --------------  ----- \n",
      " 0   Company/Brand  2343 non-null   object\n",
      " 1   Founded        2102 non-null   object\n",
      " 2   HeadQuarter    2228 non-null   object\n",
      " 3   Sector         2325 non-null   object\n",
      " 4   What it does   2343 non-null   object\n",
      " 5   Founders       2324 non-null   object\n",
      " 6   Investor       2243 non-null   object\n",
      " 7   Amount($)      2211 non-null   object\n",
      " 8   Stage          1220 non-null   object\n",
      " 9   Year           2343 non-null   object\n",
      "dtypes: object(10)\n",
      "memory usage: 201.4+ KB\n"
     ]
    }
   ],
   "source": [
    "fnd.info()"
   ]
  },
  {
   "cell_type": "code",
   "execution_count": 51,
   "id": "432afbc2",
   "metadata": {},
   "outputs": [],
   "source": [
    "fnd['Year'] = pd.to_numeric(fnd['Year'])\n"
   ]
  },
  {
   "cell_type": "code",
   "execution_count": 52,
   "id": "d48f8764-fe52-476f-97ff-b0a77716ff52",
   "metadata": {},
   "outputs": [],
   "source": [
    "fnd['Founded'] = fnd['Founded'].replace({'-':np.nan})\n",
    "fnd['Founded'] = pd.to_numeric(fnd['Founded'])"
   ]
  },
  {
   "cell_type": "code",
   "execution_count": 53,
   "id": "e47256dc-0256-47e7-9252-fb89ecab516e",
   "metadata": {},
   "outputs": [],
   "source": [
    "fnd['Amount($)'] = fnd['Amount($)'].replace({'Undisclosed':''}, regex=False)\n",
    "fnd['Amount($)'] = fnd['Amount($)'].str.replace('$','', regex=False)\n",
    "fnd['Amount($)'] = fnd['Amount($)'].str.replace(',','', regex=False)\n",
    "fnd['Amount($)'] = pd.to_numeric(fnd['Amount($)'])"
   ]
  },
  {
   "cell_type": "code",
   "execution_count": 54,
   "id": "ea909ea1-2f56-4ec4-983d-409870cb144c",
   "metadata": {},
   "outputs": [
    {
     "name": "stdout",
     "output_type": "stream",
     "text": [
      "<class 'pandas.core.frame.DataFrame'>\n",
      "Index: 2343 entries, 0 to 1051\n",
      "Data columns (total 10 columns):\n",
      " #   Column         Non-Null Count  Dtype  \n",
      "---  ------         --------------  -----  \n",
      " 0   Company/Brand  2343 non-null   object \n",
      " 1   Founded        2101 non-null   float64\n",
      " 2   HeadQuarter    2228 non-null   object \n",
      " 3   Sector         2325 non-null   object \n",
      " 4   What it does   2343 non-null   object \n",
      " 5   Founders       2324 non-null   object \n",
      " 6   Investor       2243 non-null   object \n",
      " 7   Amount($)      1842 non-null   float64\n",
      " 8   Stage          1220 non-null   object \n",
      " 9   Year           2343 non-null   int64  \n",
      "dtypes: float64(2), int64(1), object(7)\n",
      "memory usage: 201.4+ KB\n"
     ]
    }
   ],
   "source": [
    "fnd.info()"
   ]
  },
  {
   "cell_type": "code",
   "execution_count": 55,
   "id": "26463b33-bacb-4ad0-ac0e-8d79057dcd78",
   "metadata": {},
   "outputs": [
    {
     "data": {
      "text/html": [
       "<div>\n",
       "<style scoped>\n",
       "    .dataframe tbody tr th:only-of-type {\n",
       "        vertical-align: middle;\n",
       "    }\n",
       "\n",
       "    .dataframe tbody tr th {\n",
       "        vertical-align: top;\n",
       "    }\n",
       "\n",
       "    .dataframe thead th {\n",
       "        text-align: right;\n",
       "    }\n",
       "</style>\n",
       "<table border=\"1\" class=\"dataframe\">\n",
       "  <thead>\n",
       "    <tr style=\"text-align: right;\">\n",
       "      <th></th>\n",
       "      <th>Company/Brand</th>\n",
       "      <th>Founded</th>\n",
       "      <th>HeadQuarter</th>\n",
       "      <th>Sector</th>\n",
       "      <th>What it does</th>\n",
       "      <th>Founders</th>\n",
       "      <th>Investor</th>\n",
       "      <th>Amount($)</th>\n",
       "      <th>Stage</th>\n",
       "      <th>Year</th>\n",
       "    </tr>\n",
       "  </thead>\n",
       "  <tbody>\n",
       "    <tr>\n",
       "      <th>0</th>\n",
       "      <td>Bombay Shaving</td>\n",
       "      <td>NaN</td>\n",
       "      <td>NaN</td>\n",
       "      <td>Ecommerce</td>\n",
       "      <td>Provides a range of male grooming products</td>\n",
       "      <td>Shantanu Deshpande</td>\n",
       "      <td>Sixth Sense Ventures</td>\n",
       "      <td>6300000.0</td>\n",
       "      <td>NaN</td>\n",
       "      <td>2019</td>\n",
       "    </tr>\n",
       "    <tr>\n",
       "      <th>1</th>\n",
       "      <td>Ruangguru</td>\n",
       "      <td>2014.0</td>\n",
       "      <td>Mumbai</td>\n",
       "      <td>Edtech</td>\n",
       "      <td>A learning platform that provides topic-based ...</td>\n",
       "      <td>Adamas Belva Syah Devara, Iman Usman.</td>\n",
       "      <td>General Atlantic</td>\n",
       "      <td>150000000.0</td>\n",
       "      <td>Series C</td>\n",
       "      <td>2019</td>\n",
       "    </tr>\n",
       "    <tr>\n",
       "      <th>2</th>\n",
       "      <td>Eduisfun</td>\n",
       "      <td>NaN</td>\n",
       "      <td>Mumbai</td>\n",
       "      <td>Edtech</td>\n",
       "      <td>It aims to make learning fun via games.</td>\n",
       "      <td>Jatin Solanki</td>\n",
       "      <td>Deepak Parekh, Amitabh Bachchan, Piyush Pandey</td>\n",
       "      <td>28000000.0</td>\n",
       "      <td>Fresh funding</td>\n",
       "      <td>2019</td>\n",
       "    </tr>\n",
       "  </tbody>\n",
       "</table>\n",
       "</div>"
      ],
      "text/plain": [
       "    Company/Brand  Founded HeadQuarter     Sector  \\\n",
       "0  Bombay Shaving      NaN         NaN  Ecommerce   \n",
       "1       Ruangguru   2014.0      Mumbai     Edtech   \n",
       "2        Eduisfun      NaN      Mumbai     Edtech   \n",
       "\n",
       "                                        What it does  \\\n",
       "0         Provides a range of male grooming products   \n",
       "1  A learning platform that provides topic-based ...   \n",
       "2            It aims to make learning fun via games.   \n",
       "\n",
       "                                Founders  \\\n",
       "0                     Shantanu Deshpande   \n",
       "1  Adamas Belva Syah Devara, Iman Usman.   \n",
       "2                          Jatin Solanki   \n",
       "\n",
       "                                         Investor    Amount($)          Stage  \\\n",
       "0                            Sixth Sense Ventures    6300000.0            NaN   \n",
       "1                                General Atlantic  150000000.0       Series C   \n",
       "2  Deepak Parekh, Amitabh Bachchan, Piyush Pandey   28000000.0  Fresh funding   \n",
       "\n",
       "   Year  \n",
       "0  2019  \n",
       "1  2019  \n",
       "2  2019  "
      ]
     },
     "execution_count": 55,
     "metadata": {},
     "output_type": "execute_result"
    }
   ],
   "source": [
    "fnd.head(3)"
   ]
  },
  {
   "cell_type": "code",
   "execution_count": 56,
   "id": "1aac3593-2be1-4ae8-8021-5083e4965dfa",
   "metadata": {},
   "outputs": [
    {
     "data": {
      "text/plain": [
       "271544633855.83002"
      ]
     },
     "execution_count": 56,
     "metadata": {},
     "output_type": "execute_result"
    }
   ],
   "source": [
    "fnd['Amount($)'].sum()"
   ]
  },
  {
   "cell_type": "markdown",
   "id": "65cd9537-3d28-4361-a8db-8be41843e801",
   "metadata": {},
   "source": [
    "3. The following code shows us that \"Inflection Point Ventures\" was the `Investor` that funded the highest number of `Company/Brand`s overall (36 companies funded from 2019 to 2021). \n",
    "\n",
    "    How did \"Inflection Point Ventures\" **rank** *(in terms of most `Company/Brand`s funded) **in 2020**? (Note: in the answer write the rank number, where 1 = most funded company)*"
   ]
  },
  {
   "cell_type": "code",
   "execution_count": 57,
   "id": "28c4329f-45da-4220-b871-4535ee010fde",
   "metadata": {},
   "outputs": [
    {
     "data": {
      "text/html": [
       "<div>\n",
       "<style scoped>\n",
       "    .dataframe tbody tr th:only-of-type {\n",
       "        vertical-align: middle;\n",
       "    }\n",
       "\n",
       "    .dataframe tbody tr th {\n",
       "        vertical-align: top;\n",
       "    }\n",
       "\n",
       "    .dataframe thead th {\n",
       "        text-align: right;\n",
       "    }\n",
       "</style>\n",
       "<table border=\"1\" class=\"dataframe\">\n",
       "  <thead>\n",
       "    <tr style=\"text-align: right;\">\n",
       "      <th></th>\n",
       "      <th>Investor</th>\n",
       "      <th>size</th>\n",
       "    </tr>\n",
       "  </thead>\n",
       "  <tbody>\n",
       "    <tr>\n",
       "      <th>696</th>\n",
       "      <td>Inflection Point Ventures</td>\n",
       "      <td>36</td>\n",
       "    </tr>\n",
       "  </tbody>\n",
       "</table>\n",
       "</div>"
      ],
      "text/plain": [
       "                      Investor  size\n",
       "696  Inflection Point Ventures    36"
      ]
     },
     "execution_count": 57,
     "metadata": {},
     "output_type": "execute_result"
    }
   ],
   "source": [
    "# run this cell (don not delete it)\n",
    "fnd.groupby('Investor', as_index=False).size().sort_values('size', ascending=False).head(1)"
   ]
  },
  {
   "cell_type": "code",
   "execution_count": 58,
   "id": "6c77666b-4ef9-4df7-a83f-a4231bc9726f",
   "metadata": {},
   "outputs": [],
   "source": [
    "year_fund = fnd.groupby(['Year','Investor'], as_index=False).size().sort_values(['Year','size'], ascending=[True,False])"
   ]
  },
  {
   "cell_type": "code",
   "execution_count": 59,
   "id": "604ec7fe-cad6-4a37-9599-6765d454b235",
   "metadata": {},
   "outputs": [],
   "source": [
    "year_fund['rank'] = year_fund.groupby('Year')['size'].rank(\"dense\",ascending=False).astype(int)"
   ]
  },
  {
   "cell_type": "code",
   "execution_count": 60,
   "id": "bb65dc9f-c9b4-47ef-920e-a342e25fe7b9",
   "metadata": {},
   "outputs": [
    {
     "data": {
      "text/html": [
       "<div>\n",
       "<style scoped>\n",
       "    .dataframe tbody tr th:only-of-type {\n",
       "        vertical-align: middle;\n",
       "    }\n",
       "\n",
       "    .dataframe tbody tr th {\n",
       "        vertical-align: top;\n",
       "    }\n",
       "\n",
       "    .dataframe thead th {\n",
       "        text-align: right;\n",
       "    }\n",
       "</style>\n",
       "<table border=\"1\" class=\"dataframe\">\n",
       "  <thead>\n",
       "    <tr style=\"text-align: right;\">\n",
       "      <th></th>\n",
       "      <th>Year</th>\n",
       "      <th>Investor</th>\n",
       "      <th>size</th>\n",
       "      <th>rank</th>\n",
       "    </tr>\n",
       "  </thead>\n",
       "  <tbody>\n",
       "    <tr>\n",
       "      <th>24</th>\n",
       "      <td>2019</td>\n",
       "      <td>Inflection Point Ventures</td>\n",
       "      <td>1</td>\n",
       "      <td>3</td>\n",
       "    </tr>\n",
       "    <tr>\n",
       "      <th>420</th>\n",
       "      <td>2020</td>\n",
       "      <td>Inflection Point Ventures</td>\n",
       "      <td>11</td>\n",
       "      <td>3</td>\n",
       "    </tr>\n",
       "    <tr>\n",
       "      <th>1311</th>\n",
       "      <td>2021</td>\n",
       "      <td>Inflection Point Ventures</td>\n",
       "      <td>24</td>\n",
       "      <td>1</td>\n",
       "    </tr>\n",
       "  </tbody>\n",
       "</table>\n",
       "</div>"
      ],
      "text/plain": [
       "      Year                   Investor  size  rank\n",
       "24    2019  Inflection Point Ventures     1     3\n",
       "420   2020  Inflection Point Ventures    11     3\n",
       "1311  2021  Inflection Point Ventures    24     1"
      ]
     },
     "execution_count": 60,
     "metadata": {},
     "output_type": "execute_result"
    }
   ],
   "source": [
    "year_fund[year_fund['Investor']=='Inflection Point Ventures']"
   ]
  },
  {
   "cell_type": "markdown",
   "id": "9e1ebfb8-ee7b-428d-8075-ba8ea6c9f63a",
   "metadata": {},
   "source": [
    "4. Load the `Software Professionals Salary.csv` file in a DataFrame named `sps` (just like you did in Part 1), then perform the following tasks **and answer the question at the end**: \n",
    "    1. starting from the `sps` DataFrame, create a new DF called `sps_loc` where you group by `Location` and show, for each city in the dataset, the average `Rating` and `Salary`;\n",
    "    2. starting from the `fnd` DataFrame, create a new DF called `fnd_loc` where you group by `HeadQuarter` and show, for each city in the dataset **for the year 2021**, the total number of `Company/Brand`s funded and the total `Amount($)` invested;\n",
    "    3. merge the two DataFrames you just created so to **keep just the cities that are in both datasets** and save the results in a third DataFrame called `sps_fnd_loc` *(note: make sure to use the correct type of join)*;\n",
    "    4. using the `sps_fnd_loc` DataFrame: \n",
    "        1. delete the `HeadQuarter` column\n",
    "        2. create a new column `Amount($MM)` that is equal to `Amount($)` divided by 1,000,000\n",
    "        3. delete the `Amount($)` column\n",
    "        4. rename all the columns to the following names: `['City', 'Avg. Rating', 'Avg. Salary', 'Nr. Companies Funded', 'Sum Funding ($MM)']`\n",
    "    \n",
    "    **Question**: Look at the `City` that received the **highest** `Avg. Rating` score by employees: what is the `Nr. Companies Funded` in that city? "
   ]
  },
  {
   "cell_type": "code",
   "execution_count": 61,
   "id": "594dbaa6-906b-4041-9943-148927b5750a",
   "metadata": {},
   "outputs": [
    {
     "data": {
      "text/html": [
       "<div>\n",
       "<style scoped>\n",
       "    .dataframe tbody tr th:only-of-type {\n",
       "        vertical-align: middle;\n",
       "    }\n",
       "\n",
       "    .dataframe tbody tr th {\n",
       "        vertical-align: top;\n",
       "    }\n",
       "\n",
       "    .dataframe thead th {\n",
       "        text-align: right;\n",
       "    }\n",
       "</style>\n",
       "<table border=\"1\" class=\"dataframe\">\n",
       "  <thead>\n",
       "    <tr style=\"text-align: right;\">\n",
       "      <th></th>\n",
       "      <th>Rating</th>\n",
       "      <th>Company Name</th>\n",
       "      <th>Job Title</th>\n",
       "      <th>Salary</th>\n",
       "      <th>Salaries Reported</th>\n",
       "      <th>Location</th>\n",
       "      <th>Employment Status</th>\n",
       "      <th>Job Roles</th>\n",
       "    </tr>\n",
       "  </thead>\n",
       "  <tbody>\n",
       "    <tr>\n",
       "      <th>0</th>\n",
       "      <td>3.8</td>\n",
       "      <td>Sasken</td>\n",
       "      <td>Android Developer</td>\n",
       "      <td>400000</td>\n",
       "      <td>3</td>\n",
       "      <td>Bangalore</td>\n",
       "      <td>Full Time</td>\n",
       "      <td>Android</td>\n",
       "    </tr>\n",
       "    <tr>\n",
       "      <th>1</th>\n",
       "      <td>4.5</td>\n",
       "      <td>Advanced Millennium Technologies</td>\n",
       "      <td>Android Developer</td>\n",
       "      <td>400000</td>\n",
       "      <td>3</td>\n",
       "      <td>Bangalore</td>\n",
       "      <td>Full Time</td>\n",
       "      <td>Android</td>\n",
       "    </tr>\n",
       "    <tr>\n",
       "      <th>2</th>\n",
       "      <td>4.0</td>\n",
       "      <td>Unacademy</td>\n",
       "      <td>Android Developer</td>\n",
       "      <td>1000000</td>\n",
       "      <td>3</td>\n",
       "      <td>Bangalore</td>\n",
       "      <td>Full Time</td>\n",
       "      <td>Android</td>\n",
       "    </tr>\n",
       "  </tbody>\n",
       "</table>\n",
       "</div>"
      ],
      "text/plain": [
       "   Rating                      Company Name          Job Title   Salary  \\\n",
       "0     3.8                            Sasken  Android Developer   400000   \n",
       "1     4.5  Advanced Millennium Technologies  Android Developer   400000   \n",
       "2     4.0                         Unacademy  Android Developer  1000000   \n",
       "\n",
       "   Salaries Reported   Location Employment Status Job Roles  \n",
       "0                  3  Bangalore         Full Time   Android  \n",
       "1                  3  Bangalore         Full Time   Android  \n",
       "2                  3  Bangalore         Full Time   Android  "
      ]
     },
     "execution_count": 61,
     "metadata": {},
     "output_type": "execute_result"
    }
   ],
   "source": [
    "sps = pd.read_csv(\"../_data/Software Professionals Salary.csv\")\n",
    "sps.head(3)"
   ]
  },
  {
   "cell_type": "code",
   "execution_count": 62,
   "id": "effdfc22-68dd-4d0b-82bb-5cbd1afc541a",
   "metadata": {},
   "outputs": [
    {
     "data": {
      "text/html": [
       "<div>\n",
       "<style scoped>\n",
       "    .dataframe tbody tr th:only-of-type {\n",
       "        vertical-align: middle;\n",
       "    }\n",
       "\n",
       "    .dataframe tbody tr th {\n",
       "        vertical-align: top;\n",
       "    }\n",
       "\n",
       "    .dataframe thead th {\n",
       "        text-align: right;\n",
       "    }\n",
       "</style>\n",
       "<table border=\"1\" class=\"dataframe\">\n",
       "  <thead>\n",
       "    <tr style=\"text-align: right;\">\n",
       "      <th></th>\n",
       "      <th>Location</th>\n",
       "      <th>Rating</th>\n",
       "      <th>Salary</th>\n",
       "    </tr>\n",
       "  </thead>\n",
       "  <tbody>\n",
       "    <tr>\n",
       "      <th>0</th>\n",
       "      <td>Bangalore</td>\n",
       "      <td>3.920232</td>\n",
       "      <td>735344.739593</td>\n",
       "    </tr>\n",
       "    <tr>\n",
       "      <th>1</th>\n",
       "      <td>Chennai</td>\n",
       "      <td>3.902726</td>\n",
       "      <td>584559.661513</td>\n",
       "    </tr>\n",
       "    <tr>\n",
       "      <th>2</th>\n",
       "      <td>Hyderabad</td>\n",
       "      <td>3.914484</td>\n",
       "      <td>679099.157376</td>\n",
       "    </tr>\n",
       "  </tbody>\n",
       "</table>\n",
       "</div>"
      ],
      "text/plain": [
       "    Location    Rating         Salary\n",
       "0  Bangalore  3.920232  735344.739593\n",
       "1    Chennai  3.902726  584559.661513\n",
       "2  Hyderabad  3.914484  679099.157376"
      ]
     },
     "execution_count": 62,
     "metadata": {},
     "output_type": "execute_result"
    }
   ],
   "source": [
    "# 4A\n",
    "sps_loc = sps.groupby('Location', as_index=False)[['Rating','Salary']].mean()\n",
    "sps_loc.head(3)"
   ]
  },
  {
   "cell_type": "code",
   "execution_count": 63,
   "id": "011a0a8d-2a74-4f17-b5f5-7eca50d45a0d",
   "metadata": {},
   "outputs": [
    {
     "data": {
      "text/html": [
       "<div>\n",
       "<style scoped>\n",
       "    .dataframe tbody tr th:only-of-type {\n",
       "        vertical-align: middle;\n",
       "    }\n",
       "\n",
       "    .dataframe tbody tr th {\n",
       "        vertical-align: top;\n",
       "    }\n",
       "\n",
       "    .dataframe thead th {\n",
       "        text-align: right;\n",
       "    }\n",
       "</style>\n",
       "<table border=\"1\" class=\"dataframe\">\n",
       "  <thead>\n",
       "    <tr style=\"text-align: right;\">\n",
       "      <th></th>\n",
       "      <th>HeadQuarter</th>\n",
       "      <th>Company/Brand</th>\n",
       "      <th>Amount($)</th>\n",
       "    </tr>\n",
       "  </thead>\n",
       "  <tbody>\n",
       "    <tr>\n",
       "      <th>0</th>\n",
       "      <td>Ahmadabad</td>\n",
       "      <td>6</td>\n",
       "      <td>4300000.0</td>\n",
       "    </tr>\n",
       "    <tr>\n",
       "      <th>1</th>\n",
       "      <td>Ahmedabad</td>\n",
       "      <td>11</td>\n",
       "      <td>198155000.0</td>\n",
       "    </tr>\n",
       "    <tr>\n",
       "      <th>2</th>\n",
       "      <td>Ambernath</td>\n",
       "      <td>1</td>\n",
       "      <td>0.0</td>\n",
       "    </tr>\n",
       "  </tbody>\n",
       "</table>\n",
       "</div>"
      ],
      "text/plain": [
       "  HeadQuarter  Company/Brand    Amount($)\n",
       "0   Ahmadabad              6    4300000.0\n",
       "1   Ahmedabad             11  198155000.0\n",
       "2   Ambernath              1          0.0"
      ]
     },
     "execution_count": 63,
     "metadata": {},
     "output_type": "execute_result"
    }
   ],
   "source": [
    "# 4B\n",
    "fnd_loc = fnd[fnd['Year']==2021].groupby('HeadQuarter', as_index=False).agg({'Company/Brand':'count', 'Amount($)': 'sum'})\n",
    "fnd_loc.head(3)"
   ]
  },
  {
   "cell_type": "code",
   "execution_count": 64,
   "id": "1ed83acf-ca7b-4284-a035-27a77382f2f3",
   "metadata": {},
   "outputs": [
    {
     "data": {
      "text/html": [
       "<div>\n",
       "<style scoped>\n",
       "    .dataframe tbody tr th:only-of-type {\n",
       "        vertical-align: middle;\n",
       "    }\n",
       "\n",
       "    .dataframe tbody tr th {\n",
       "        vertical-align: top;\n",
       "    }\n",
       "\n",
       "    .dataframe thead th {\n",
       "        text-align: right;\n",
       "    }\n",
       "</style>\n",
       "<table border=\"1\" class=\"dataframe\">\n",
       "  <thead>\n",
       "    <tr style=\"text-align: right;\">\n",
       "      <th></th>\n",
       "      <th>Location</th>\n",
       "      <th>Rating</th>\n",
       "      <th>Salary</th>\n",
       "      <th>HeadQuarter</th>\n",
       "      <th>Company/Brand</th>\n",
       "      <th>Amount($)</th>\n",
       "    </tr>\n",
       "  </thead>\n",
       "  <tbody>\n",
       "    <tr>\n",
       "      <th>0</th>\n",
       "      <td>Bangalore</td>\n",
       "      <td>3.920232</td>\n",
       "      <td>735344.739593</td>\n",
       "      <td>Bangalore</td>\n",
       "      <td>425</td>\n",
       "      <td>1.432742e+10</td>\n",
       "    </tr>\n",
       "    <tr>\n",
       "      <th>1</th>\n",
       "      <td>Chennai</td>\n",
       "      <td>3.902726</td>\n",
       "      <td>584559.661513</td>\n",
       "      <td>Chennai</td>\n",
       "      <td>40</td>\n",
       "      <td>7.171400e+08</td>\n",
       "    </tr>\n",
       "    <tr>\n",
       "      <th>2</th>\n",
       "      <td>Hyderabad</td>\n",
       "      <td>3.914484</td>\n",
       "      <td>679099.157376</td>\n",
       "      <td>Hyderabad</td>\n",
       "      <td>34</td>\n",
       "      <td>2.439600e+08</td>\n",
       "    </tr>\n",
       "    <tr>\n",
       "      <th>3</th>\n",
       "      <td>Jaipur</td>\n",
       "      <td>3.940741</td>\n",
       "      <td>629135.802469</td>\n",
       "      <td>Jaipur</td>\n",
       "      <td>11</td>\n",
       "      <td>3.433000e+08</td>\n",
       "    </tr>\n",
       "    <tr>\n",
       "      <th>4</th>\n",
       "      <td>Kolkata</td>\n",
       "      <td>4.024719</td>\n",
       "      <td>710925.573034</td>\n",
       "      <td>Kolkata</td>\n",
       "      <td>5</td>\n",
       "      <td>2.800000e+07</td>\n",
       "    </tr>\n",
       "    <tr>\n",
       "      <th>5</th>\n",
       "      <td>Mumbai</td>\n",
       "      <td>3.881709</td>\n",
       "      <td>961180.368491</td>\n",
       "      <td>Mumbai</td>\n",
       "      <td>200</td>\n",
       "      <td>1.538303e+11</td>\n",
       "    </tr>\n",
       "    <tr>\n",
       "      <th>6</th>\n",
       "      <td>New Delhi</td>\n",
       "      <td>3.943415</td>\n",
       "      <td>658756.735632</td>\n",
       "      <td>New Delhi</td>\n",
       "      <td>143</td>\n",
       "      <td>1.673010e+09</td>\n",
       "    </tr>\n",
       "    <tr>\n",
       "      <th>7</th>\n",
       "      <td>Pune</td>\n",
       "      <td>3.886082</td>\n",
       "      <td>690476.311153</td>\n",
       "      <td>Pune</td>\n",
       "      <td>46</td>\n",
       "      <td>5.090700e+08</td>\n",
       "    </tr>\n",
       "  </tbody>\n",
       "</table>\n",
       "</div>"
      ],
      "text/plain": [
       "    Location    Rating         Salary HeadQuarter  Company/Brand     Amount($)\n",
       "0  Bangalore  3.920232  735344.739593   Bangalore            425  1.432742e+10\n",
       "1    Chennai  3.902726  584559.661513     Chennai             40  7.171400e+08\n",
       "2  Hyderabad  3.914484  679099.157376   Hyderabad             34  2.439600e+08\n",
       "3     Jaipur  3.940741  629135.802469      Jaipur             11  3.433000e+08\n",
       "4    Kolkata  4.024719  710925.573034     Kolkata              5  2.800000e+07\n",
       "5     Mumbai  3.881709  961180.368491      Mumbai            200  1.538303e+11\n",
       "6  New Delhi  3.943415  658756.735632   New Delhi            143  1.673010e+09\n",
       "7       Pune  3.886082  690476.311153        Pune             46  5.090700e+08"
      ]
     },
     "execution_count": 64,
     "metadata": {},
     "output_type": "execute_result"
    }
   ],
   "source": [
    "# 4C\n",
    "sps_fnd_loc = sps_loc.merge(fnd_loc, how='inner', left_on='Location', right_on='HeadQuarter')\n",
    "sps_fnd_loc"
   ]
  },
  {
   "cell_type": "code",
   "execution_count": 65,
   "id": "0928d918-5752-4218-a3f3-8d025e1d25b0",
   "metadata": {},
   "outputs": [],
   "source": [
    "# 4Da\n",
    "if 'HeadQuarter' in sps_fnd_loc.columns: \n",
    "    del sps_fnd_loc['HeadQuarter']\n",
    "# 4Db\n",
    "sps_fnd_loc['Amount($MM)'] = sps_fnd_loc['Amount($)']/1000000\n",
    "# 4Dc\n",
    "if 'Amount($)' in sps_fnd_loc.columns: \n",
    "    del sps_fnd_loc['Amount($)']\n",
    "# 4Dd\n",
    "sps_fnd_loc.columns = ['City','Avg. Rating','Avg. Salary','Nr. Companies Funded','Sum Funding ($MM)']"
   ]
  },
  {
   "cell_type": "code",
   "execution_count": 66,
   "id": "3783c930-a907-4764-867e-67c5af5f3ad3",
   "metadata": {},
   "outputs": [
    {
     "data": {
      "text/html": [
       "<div>\n",
       "<style scoped>\n",
       "    .dataframe tbody tr th:only-of-type {\n",
       "        vertical-align: middle;\n",
       "    }\n",
       "\n",
       "    .dataframe tbody tr th {\n",
       "        vertical-align: top;\n",
       "    }\n",
       "\n",
       "    .dataframe thead th {\n",
       "        text-align: right;\n",
       "    }\n",
       "</style>\n",
       "<table border=\"1\" class=\"dataframe\">\n",
       "  <thead>\n",
       "    <tr style=\"text-align: right;\">\n",
       "      <th></th>\n",
       "      <th>City</th>\n",
       "      <th>Avg. Rating</th>\n",
       "      <th>Avg. Salary</th>\n",
       "      <th>Nr. Companies Funded</th>\n",
       "      <th>Sum Funding ($MM)</th>\n",
       "    </tr>\n",
       "  </thead>\n",
       "  <tbody>\n",
       "    <tr>\n",
       "      <th>0</th>\n",
       "      <td>Bangalore</td>\n",
       "      <td>3.920232</td>\n",
       "      <td>735344.739593</td>\n",
       "      <td>425</td>\n",
       "      <td>14327.42</td>\n",
       "    </tr>\n",
       "    <tr>\n",
       "      <th>1</th>\n",
       "      <td>Chennai</td>\n",
       "      <td>3.902726</td>\n",
       "      <td>584559.661513</td>\n",
       "      <td>40</td>\n",
       "      <td>717.14</td>\n",
       "    </tr>\n",
       "    <tr>\n",
       "      <th>2</th>\n",
       "      <td>Hyderabad</td>\n",
       "      <td>3.914484</td>\n",
       "      <td>679099.157376</td>\n",
       "      <td>34</td>\n",
       "      <td>243.96</td>\n",
       "    </tr>\n",
       "    <tr>\n",
       "      <th>3</th>\n",
       "      <td>Jaipur</td>\n",
       "      <td>3.940741</td>\n",
       "      <td>629135.802469</td>\n",
       "      <td>11</td>\n",
       "      <td>343.30</td>\n",
       "    </tr>\n",
       "    <tr>\n",
       "      <th>4</th>\n",
       "      <td>Kolkata</td>\n",
       "      <td>4.024719</td>\n",
       "      <td>710925.573034</td>\n",
       "      <td>5</td>\n",
       "      <td>28.00</td>\n",
       "    </tr>\n",
       "    <tr>\n",
       "      <th>5</th>\n",
       "      <td>Mumbai</td>\n",
       "      <td>3.881709</td>\n",
       "      <td>961180.368491</td>\n",
       "      <td>200</td>\n",
       "      <td>153830.30</td>\n",
       "    </tr>\n",
       "    <tr>\n",
       "      <th>6</th>\n",
       "      <td>New Delhi</td>\n",
       "      <td>3.943415</td>\n",
       "      <td>658756.735632</td>\n",
       "      <td>143</td>\n",
       "      <td>1673.01</td>\n",
       "    </tr>\n",
       "    <tr>\n",
       "      <th>7</th>\n",
       "      <td>Pune</td>\n",
       "      <td>3.886082</td>\n",
       "      <td>690476.311153</td>\n",
       "      <td>46</td>\n",
       "      <td>509.07</td>\n",
       "    </tr>\n",
       "  </tbody>\n",
       "</table>\n",
       "</div>"
      ],
      "text/plain": [
       "        City  Avg. Rating    Avg. Salary  Nr. Companies Funded  \\\n",
       "0  Bangalore     3.920232  735344.739593                   425   \n",
       "1    Chennai     3.902726  584559.661513                    40   \n",
       "2  Hyderabad     3.914484  679099.157376                    34   \n",
       "3     Jaipur     3.940741  629135.802469                    11   \n",
       "4    Kolkata     4.024719  710925.573034                     5   \n",
       "5     Mumbai     3.881709  961180.368491                   200   \n",
       "6  New Delhi     3.943415  658756.735632                   143   \n",
       "7       Pune     3.886082  690476.311153                    46   \n",
       "\n",
       "   Sum Funding ($MM)  \n",
       "0           14327.42  \n",
       "1             717.14  \n",
       "2             243.96  \n",
       "3             343.30  \n",
       "4              28.00  \n",
       "5          153830.30  \n",
       "6            1673.01  \n",
       "7             509.07  "
      ]
     },
     "execution_count": 66,
     "metadata": {},
     "output_type": "execute_result"
    }
   ],
   "source": [
    "sps_fnd_loc"
   ]
  },
  {
   "cell_type": "code",
   "execution_count": 67,
   "id": "c3da259e-8521-4ffb-9c23-819f46af2d01",
   "metadata": {},
   "outputs": [
    {
     "data": {
      "text/plain": [
       "4    5\n",
       "Name: Nr. Companies Funded, dtype: int64"
      ]
     },
     "execution_count": 67,
     "metadata": {},
     "output_type": "execute_result"
    }
   ],
   "source": [
    "sps_fnd_loc[sps_fnd_loc['Avg. Rating']==sps_fnd_loc['Avg. Rating'].max()]['Nr. Companies Funded']"
   ]
  },
  {
   "cell_type": "markdown",
   "id": "a7dcfa1d-2439-4f63-bd15-abf5e7398a2e",
   "metadata": {},
   "source": [
    "5. Create a scatterplot that shows the relationship between the `Avg. Salary` and the `Sum Funding ($MM)`. Which `City` stands out in terms of total funding received by companies and salary paid to their employees? "
   ]
  },
  {
   "cell_type": "code",
   "execution_count": 82,
   "id": "e046b4cb-b783-455c-9a39-7fddc33b1119",
   "metadata": {},
   "outputs": [
    {
     "data": {
      "image/png": "[encoded data removed]",
      "text/plain": [
       "<Figure size 640x480 with 1 Axes>"
      ]
     },
     "metadata": {},
     "output_type": "display_data"
    }
   ],
   "source": [
    "plot = sns.scatterplot(\n",
    "    x='Avg. Salary', \n",
    "    y='Sum Funding ($MM)', \n",
    "    size='Nr. Companies Funded', \n",
    "    hue='City', \n",
    "    data=sps_fnd_loc,\n",
    "    legend='brief'\n",
    ")\n",
    "\n",
    "# Remove the size legend entry\n",
    "handles, labels = plot.get_legend_handles_labels()\n",
    "new_handles = handles[1:len(set(sps_fnd_loc['City']))+1]\n",
    "new_labels = labels[1:len(set(sps_fnd_loc['City']))+1]\n",
    "\n",
    "plot.legend(new_handles, new_labels, title='City')\n",
    "\n",
    "plt.show()"
   ]
  },
  {
   "cell_type": "markdown",
   "id": "8e03274d-911e-4421-aee5-9c6c62984529",
   "metadata": {},
   "source": [
    "Mumbai, which has the highest levels of both average salary and total funding received. "
   ]
  }
 ],
 "metadata": {
  "kernelspec": {
   "display_name": "Python 3 (ipykernel)",
   "language": "python",
   "name": "python3"
  },
  "language_info": {
   "codemirror_mode": {
    "name": "ipython",
    "version": 3
   },
   "file_extension": ".py",
   "mimetype": "text/x-python",
   "name": "python",
   "nbconvert_exporter": "python",
   "pygments_lexer": "ipython3",
   "version": "3.12.4"
  }
 },
 "nbformat": 4,
 "nbformat_minor": 5
}
